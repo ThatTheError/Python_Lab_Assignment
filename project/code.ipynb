{
 "cells": [
  {
   "cell_type": "code",
   "execution_count": null,
   "metadata": {},
   "outputs": [],
   "source": [
    "\n",
    "## healpers\n",
    "from datetime import datetime\n",
    "from os.path import exists as file_exists\n",
    "import ntpath\n",
    "import os\n",
    "import string\n",
    "\n",
    "\n",
    "import cv2\n",
    "import numpy as np\n",
    "import matplotlib.pyplot as plt\n",
    "import matplotlib.image as mpimg\n",
    "import pytesseract\n",
    "pytesseract.pytesseract.tesseract_cmd = r'C:\\Program Files\\Tesseract-OCR\\tesseract.exe'"
   ]
  },
  {
   "cell_type": "code",
   "execution_count": null,
   "metadata": {},
   "outputs": [],
   "source": [
    "def load_images(**options):\n",
    "    path = options.get('path','./images/')\n",
    "    n = options.get('n',10)\n",
    "    dir_list = os.listdir(path)\n",
    "    images = []\n",
    "    for index, file in enumerate(dir_list):\n",
    "\n",
    "        img = os.path.join(path, file)\n",
    "        file_data = {}\n",
    "        file_data['filename'] = file\n",
    "        file_data['path'] = img\n",
    "        images.append(file_data)\n",
    "        if index > n:\n",
    "            break\n",
    "    return images"
   ]
  }
 ],
 "metadata": {
  "interpreter": {
   "hash": "400807ae829a8239bcb0df96635bfa8bd7af68e9566a8e2da0c2422ffe2ecb89"
  },
  "kernelspec": {
   "display_name": "Python 3.7.1 32-bit",
   "language": "python",
   "name": "python3"
  },
  "language_info": {
   "name": "python",
   "version": "3.7.1"
  },
  "orig_nbformat": 4
 },
 "nbformat": 4,
 "nbformat_minor": 2
}
